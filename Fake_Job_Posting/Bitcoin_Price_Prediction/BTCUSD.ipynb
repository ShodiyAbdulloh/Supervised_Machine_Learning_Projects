{
 "cells": [
  {
   "cell_type": "code",
   "execution_count": 1,
   "id": "bcaaf2eb",
   "metadata": {},
   "outputs": [
    {
     "name": "stderr",
     "output_type": "stream",
     "text": [
      "C:\\Users\\user\\AppData\\Local\\Temp\\ipykernel_20880\\1658344304.py:4: FutureWarning: YF.download() has changed argument auto_adjust default to True\n",
      "  btc = yf.download(\"BTC-USD\", start=\"2020-01-01\", end=\"2025-09-01\", interval=\"1d\")\n",
      "[*********************100%***********************]  1 of 1 completed\n",
      "C:\\Users\\user\\AppData\\Local\\Temp\\ipykernel_20880\\1658344304.py:8: FutureWarning: YF.download() has changed argument auto_adjust default to True\n",
      "  eth = yf.download(\"ETH-USD\", start=\"2020-01-01\", end=\"2025-09-01\", interval=\"1d\")\n",
      "[*********************100%***********************]  1 of 1 completed\n"
     ]
    },
    {
     "name": "stdout",
     "output_type": "stream",
     "text": [
      "BTC & ETH data saved successfully!\n"
     ]
    }
   ],
   "source": [
    "import yfinance as yf\n",
    "\n",
    "# Download BTC-USD data\n",
    "btc = yf.download(\"BTC-USD\", start=\"2020-01-01\", end=\"2025-09-01\", interval=\"1d\")\n",
    "btc.to_csv(\"bitcoin.csv\")  # Save as CSV\n",
    "\n",
    "# Download ETH-USD data\n",
    "eth = yf.download(\"ETH-USD\", start=\"2020-01-01\", end=\"2025-09-01\", interval=\"1d\")\n",
    "eth.to_csv(\"ethereum.csv\")  # Save as CSV\n",
    "\n",
    "print(\"BTC & ETH data saved successfully!\")\n",
    "\n",
    "# downloaded from yahoofinance"
   ]
  },
  {
   "cell_type": "code",
   "execution_count": 2,
   "metadata": {},
   "outputs": [],
   "source": [
    "# Import libraries\n",
    "import pandas as pd\n",
    "import numpy as np\n",
    "import matplotlib.pyplot as plt\n",
    "import seaborn as sns\n",
    "import yfinance as yf\n",
    "\n",
    "# ML\n",
    "from sklearn.model_selection import train_test_split, GridSearchCV, RandomizedSearchCV\n",
    "from sklearn.preprocessing import StandardScaler\n",
    "from sklearn.metrics import mean_squared_error, mean_absolute_error, r2_score\n",
    "\n",
    "# Models\n",
    "from sklearn.linear_model import LinearRegression, Ridge\n",
    "from sklearn.ensemble import RandomForestRegressor\n",
    "from xgboost import XGBRegressor\n",
    "\n",
    "import warnings\n",
    "warnings.filterwarnings(\"ignore\")\n"
   ]
  },
  {
   "cell_type": "code",
   "execution_count": 3,
   "id": "92593ad1",
   "metadata": {},
   "outputs": [],
   "source": [
    "# Load dataset\n",
    "df = pd.read_csv(\"bitcoin.csv\")\n"
   ]
  },
  {
   "cell_type": "code",
   "execution_count": 4,
   "id": "dd5f7b63",
   "metadata": {},
   "outputs": [
    {
     "name": "stdout",
     "output_type": "stream",
     "text": [
      "<class 'pandas.core.frame.DataFrame'>\n",
      "RangeIndex: 2072 entries, 0 to 2071\n",
      "Data columns (total 6 columns):\n",
      " #   Column  Non-Null Count  Dtype \n",
      "---  ------  --------------  ----- \n",
      " 0   Date    2072 non-null   object\n",
      " 1   Close   2071 non-null   object\n",
      " 2   High    2071 non-null   object\n",
      " 3   Low     2071 non-null   object\n",
      " 4   Open    2071 non-null   object\n",
      " 5   Volume  2071 non-null   object\n",
      "dtypes: object(6)\n",
      "memory usage: 97.3+ KB\n"
     ]
    }
   ],
   "source": [
    "# Show summary info about the Data\n",
    "df.info()"
   ]
  },
  {
   "cell_type": "code",
   "execution_count": 5,
   "id": "dc57a3ef",
   "metadata": {},
   "outputs": [
    {
     "data": {
      "text/html": [
       "<div>\n",
       "<style scoped>\n",
       "    .dataframe tbody tr th:only-of-type {\n",
       "        vertical-align: middle;\n",
       "    }\n",
       "\n",
       "    .dataframe tbody tr th {\n",
       "        vertical-align: top;\n",
       "    }\n",
       "\n",
       "    .dataframe thead th {\n",
       "        text-align: right;\n",
       "    }\n",
       "</style>\n",
       "<table border=\"1\" class=\"dataframe\">\n",
       "  <thead>\n",
       "    <tr style=\"text-align: right;\">\n",
       "      <th></th>\n",
       "      <th>Date</th>\n",
       "      <th>Close</th>\n",
       "      <th>High</th>\n",
       "      <th>Low</th>\n",
       "      <th>Open</th>\n",
       "      <th>Volume</th>\n",
       "    </tr>\n",
       "  </thead>\n",
       "  <tbody>\n",
       "    <tr>\n",
       "      <th>count</th>\n",
       "      <td>2072</td>\n",
       "      <td>2071</td>\n",
       "      <td>2071</td>\n",
       "      <td>2071</td>\n",
       "      <td>2071</td>\n",
       "      <td>2071</td>\n",
       "    </tr>\n",
       "    <tr>\n",
       "      <th>unique</th>\n",
       "      <td>2072</td>\n",
       "      <td>2071</td>\n",
       "      <td>2071</td>\n",
       "      <td>2070</td>\n",
       "      <td>2071</td>\n",
       "      <td>2071</td>\n",
       "    </tr>\n",
       "    <tr>\n",
       "      <th>top</th>\n",
       "      <td>8/31/2025</td>\n",
       "      <td>108236.7109</td>\n",
       "      <td>109491</td>\n",
       "      <td>27375.60156</td>\n",
       "      <td>108818.4609</td>\n",
       "      <td>47986191770</td>\n",
       "    </tr>\n",
       "    <tr>\n",
       "      <th>freq</th>\n",
       "      <td>1</td>\n",
       "      <td>1</td>\n",
       "      <td>1</td>\n",
       "      <td>2</td>\n",
       "      <td>1</td>\n",
       "      <td>1</td>\n",
       "    </tr>\n",
       "  </tbody>\n",
       "</table>\n",
       "</div>"
      ],
      "text/plain": [
       "             Date        Close    High          Low         Open       Volume\n",
       "count        2072         2071    2071         2071         2071         2071\n",
       "unique       2072         2071    2071         2070         2071         2071\n",
       "top     8/31/2025  108236.7109  109491  27375.60156  108818.4609  47986191770\n",
       "freq            1            1       1            2            1            1"
      ]
     },
     "execution_count": 5,
     "metadata": {},
     "output_type": "execute_result"
    }
   ],
   "source": [
    "# Display summary statistics for numerical columns (count, mean, std, min, 25%, 50%, 75%, max)\n",
    "df.describe()"
   ]
  },
  {
   "cell_type": "code",
   "execution_count": 6,
   "id": "c44e4e28",
   "metadata": {},
   "outputs": [
    {
     "data": {
      "text/plain": [
       "(2072, 6)"
      ]
     },
     "execution_count": 6,
     "metadata": {},
     "output_type": "execute_result"
    }
   ],
   "source": [
    "df.shape"
   ]
  },
  {
   "cell_type": "code",
   "execution_count": 10,
   "id": "6043d1d6",
   "metadata": {},
   "outputs": [
    {
     "data": {
      "text/plain": [
       "Date      0\n",
       "Close     1\n",
       "High      1\n",
       "Low       1\n",
       "Open      1\n",
       "Volume    1\n",
       "dtype: int64"
      ]
     },
     "execution_count": 10,
     "metadata": {},
     "output_type": "execute_result"
    }
   ],
   "source": [
    "# Count the number of missing (null) values in each column\n",
    "df.isnull().sum()"
   ]
  },
  {
   "cell_type": "code",
   "execution_count": 13,
   "id": "0ddf8ff8",
   "metadata": {},
   "outputs": [],
   "source": [
    "# List of numeric columns to fill\n",
    "numeric_cols = ['Open', 'High', 'Low', 'Close', 'Volume']"
   ]
  },
  {
   "cell_type": "code",
   "execution_count": 14,
   "id": "1f6e0881",
   "metadata": {},
   "outputs": [],
   "source": [
    "# Forward fill first, then backward fill for any remaining missing values\n",
    "df[numeric_cols] = df[numeric_cols].fillna(method='ffill').fillna(method='bfill')"
   ]
  },
  {
   "cell_type": "code",
   "execution_count": 15,
   "id": "b9f46017",
   "metadata": {},
   "outputs": [
    {
     "name": "stdout",
     "output_type": "stream",
     "text": [
      "Missing values after filling:\n",
      " Date      0\n",
      "Close     0\n",
      "High      0\n",
      "Low       0\n",
      "Open      0\n",
      "Volume    0\n",
      "dtype: int64\n"
     ]
    }
   ],
   "source": [
    "# Check missing values after filling\n",
    "print(\"Missing values after filling:\\n\", df.isnull().sum())"
   ]
  },
  {
   "cell_type": "code",
   "execution_count": 16,
   "id": "71426af2",
   "metadata": {},
   "outputs": [
    {
     "name": "stdout",
     "output_type": "stream",
     "text": [
      "<class 'pandas.core.frame.DataFrame'>\n",
      "RangeIndex: 2072 entries, 0 to 2071\n",
      "Data columns (total 6 columns):\n",
      " #   Column  Non-Null Count  Dtype \n",
      "---  ------  --------------  ----- \n",
      " 0   Date    2072 non-null   object\n",
      " 1   Close   2072 non-null   object\n",
      " 2   High    2072 non-null   object\n",
      " 3   Low     2072 non-null   object\n",
      " 4   Open    2072 non-null   object\n",
      " 5   Volume  2072 non-null   object\n",
      "dtypes: object(6)\n",
      "memory usage: 97.3+ KB\n"
     ]
    }
   ],
   "source": [
    "df.info()"
   ]
  },
  {
   "cell_type": "code",
   "execution_count": 17,
   "id": "cbbf4925",
   "metadata": {},
   "outputs": [
    {
     "data": {
      "image/png": "[encoded data removed]",
      "text/plain": [
       "<Figure size 1200x600 with 1 Axes>"
      ]
     },
     "metadata": {},
     "output_type": "display_data"
    }
   ],
   "source": [
    "# Plot closing price\n",
    "plt.figure(figsize=(12,6))\n",
    "plt.plot(btc.index, btc['Close'], label='BTC Close Price')\n",
    "plt.title(\"Bitcoin Closing Price Over Time\")\n",
    "plt.legend()\n",
    "plt.show()"
   ]
  },
  {
   "cell_type": "code",
   "execution_count": 18,
   "id": "b2b81941",
   "metadata": {},
   "outputs": [
    {
     "data": {
      "image/png": "[encoded data removed]",
      "text/plain": [
       "<Figure size 800x600 with 2 Axes>"
      ]
     },
     "metadata": {},
     "output_type": "display_data"
    }
   ],
   "source": [
    "# Correlation heatmap\n",
    "plt.figure(figsize=(8,6))\n",
    "sns.heatmap(btc.corr(), annot=True, cmap=\"coolwarm\")\n",
    "plt.title(\"Feature Correlation\")\n",
    "plt.show()"
   ]
  },
  {
   "cell_type": "code",
   "execution_count": 19,
   "id": "e7838798",
   "metadata": {},
   "outputs": [],
   "source": [
    "# Convert date column to datetime if exists\n",
    "if 'Date' in btc.columns:\n",
    "    btc['Date'] = pd.to_datetime(btc['Date'])\n",
    "    btc.set_index('Date', inplace=True)"
   ]
  },
  {
   "cell_type": "code",
   "execution_count": 21,
   "id": "1ed051c4",
   "metadata": {},
   "outputs": [],
   "source": [
    "# Convert Date/Time column to datetime\n",
    "if 'Date' in df.columns:\n",
    "    df['Date'] = pd.to_datetime(df['Date'], errors='coerce')\n",
    "    df.set_index('Date', inplace=True)\n",
    "elif 'Timestamp' in df.columns:\n",
    "    df['Timestamp'] = pd.to_datetime(df['Timestamp'], errors='coerce')\n",
    "    df.set_index('Timestamp', inplace=True)\n",
    "else:\n",
    "    print(\"No Date or Timestamp column found. Time-series analysis may not work.\")"
   ]
  },
  {
   "cell_type": "code",
   "execution_count": 22,
   "id": "86ccb977",
   "metadata": {},
   "outputs": [],
   "source": [
    "# Convert price/volume columns to numeric\n",
    "numeric_cols = [\"Price\", \"Close\", \"High\", \"Low\", \"Open\", \"Volume\"]\n",
    "for col in numeric_cols:\n",
    "    if col in df.columns:\n",
    "        # Remove commas and spaces, convert to numeric\n",
    "        df[col] = pd.to_numeric(df[col].astype(str).str.replace(\",\", \"\").str.strip(), errors=\"coerce\")"
   ]
  },
  {
   "cell_type": "code",
   "execution_count": 23,
   "id": "21cbbee4",
   "metadata": {},
   "outputs": [
    {
     "name": "stdout",
     "output_type": "stream",
     "text": [
      "<class 'pandas.core.frame.DataFrame'>\n",
      "DatetimeIndex: 2072 entries, NaT to 2025-08-31\n",
      "Data columns (total 5 columns):\n",
      " #   Column  Non-Null Count  Dtype  \n",
      "---  ------  --------------  -----  \n",
      " 0   Close   2070 non-null   float64\n",
      " 1   High    2070 non-null   float64\n",
      " 2   Low     2070 non-null   float64\n",
      " 3   Open    2070 non-null   float64\n",
      " 4   Volume  2070 non-null   float64\n",
      "dtypes: float64(5)\n",
      "memory usage: 97.1 KB\n"
     ]
    }
   ],
   "source": [
    "df.info()"
   ]
  },
  {
   "cell_type": "code",
   "execution_count": 24,
   "id": "5bc41473",
   "metadata": {},
   "outputs": [],
   "source": [
    "# Save cleaned dataset\n",
    "df.to_csv(\"bitcoin_cleaned.csv\", index=False)"
   ]
  },
  {
   "cell_type": "code",
   "execution_count": 39,
   "id": "f01652d6",
   "metadata": {},
   "outputs": [],
   "source": [
    "# Features and target\n",
    "X = btc.drop(columns=['Close', 'Date'], errors='ignore')\n",
    "y = btc['Close']"
   ]
  },
  {
   "cell_type": "code",
   "execution_count": 40,
   "id": "9b530e23",
   "metadata": {},
   "outputs": [],
   "source": [
    "# Train-test split (time series: shuffle=False)\n",
    "X_train, X_test, y_train, y_test = train_test_split(X, y, shuffle=False, test_size=0.2)"
   ]
  },
  {
   "cell_type": "code",
   "execution_count": 43,
   "id": "153fc41c",
   "metadata": {},
   "outputs": [],
   "source": [
    "# Initialize models\n",
    "models = {\n",
    "    \"Linear Regression\": LinearRegression(),\n",
    "    \"Ridge Regression\": Ridge(alpha=1.0),\n",
    "    \"Random Forest\": RandomForestRegressor(random_state=42, n_estimators=200, max_depth=10),\n",
    "    \"XGBoost\": XGBRegressor(random_state=42, n_estimators=200, learning_rate=0.1, max_depth=5)\n",
    "}\n"
   ]
  },
  {
   "cell_type": "code",
   "execution_count": 44,
   "metadata": {},
   "outputs": [],
   "source": [
    "# Function to evaluate model\n",
    "def evaluate_model(y_true, y_pred):\n",
    "    return {\n",
    "        \"R2\": r2_score(y_true, y_pred),\n",
    "        \"RMSE\": mean_squared_error(y_true, y_pred, squared=False),\n",
    "        \"MAE\": mean_absolute_error(y_true, y_pred)\n",
    "    }\n"
   ]
  },
  {
   "cell_type": "code",
   "execution_count": 45,
   "id": "164e7bb7",
   "metadata": {},
   "outputs": [],
   "source": [
    "# Train, predict, evaluate\n",
    "results = []\n",
    "for name, model in models.items():\n",
    "    model.fit(X_train, y_train)\n",
    "    y_pred = model.predict(X_test)\n",
    "    scores = evaluate_model(y_test, y_pred)\n",
    "    scores[\"Model\"] = name\n",
    "    results.append(scores)"
   ]
  },
  {
   "cell_type": "code",
   "execution_count": 46,
   "id": "403e5a49",
   "metadata": {},
   "outputs": [
    {
     "name": "stdout",
     "output_type": "stream",
     "text": [
      "               Model        R2          RMSE           MAE\n",
      "1   Ridge Regression  0.997756    906.732326    655.562935\n",
      "0  Linear Regression  0.997756    906.732327    655.562936\n",
      "2      Random Forest -0.718980  25094.145227  19941.911653\n",
      "3            XGBoost -0.732472  25192.431917  20112.032901\n"
     ]
    }
   ],
   "source": [
    "# Convert to DataFrame for better display\n",
    "results_df = pd.DataFrame(results)[[\"Model\", \"R2\", \"RMSE\", \"MAE\"]].sort_values(by=\"R2\", ascending=False)\n",
    "print(results_df)"
   ]
  },
  {
   "cell_type": "markdown",
   "id": "0fd12ec1",
   "metadata": {},
   "source": [
    "# Feature Engineering"
   ]
  },
  {
   "cell_type": "code",
   "execution_count": 48,
   "metadata": {},
   "outputs": [],
   "source": [
    "# Lag of 1,2,3,7,14 days\n",
    "for lag in [1,2,3,7,14]:\n",
    "    btc[f'Close_lag_{lag}'] = btc['Close'].shift(lag)\n"
   ]
  },
  {
   "cell_type": "code",
   "execution_count": null,
   "metadata": {},
   "outputs": [],
   "source": [
    "# Rolling mean and standard deviation of past prices.\n",
    "for window in [3,7,14,30]:\n",
    "    btc[f'Close_roll_mean_{window}'] = btc['Close'].rolling(window).mean()\n",
    "    btc[f'Close_roll_std_{window}'] = btc['Close'].rolling(window).std()"
   ]
  },
  {
   "cell_type": "code",
   "execution_count": 51,
   "id": "263131f2",
   "metadata": {},
   "outputs": [],
   "source": [
    "# Difference between current price and previous prices.\n",
    "btc['Momentum_1'] = btc['Close'] - btc['Close'].shift(1)  # daily momentum\n",
    "btc['Momentum_7'] = btc['Close'] - btc['Close'].shift(7)  # weekly momentum\n"
   ]
  },
  {
   "cell_type": "code",
   "execution_count": null,
   "id": "74c55278",
   "metadata": {},
   "outputs": [],
   "source": [
    "# Difference between short-term and long-term moving averages.\n",
    "btc['MA_diff'] = btc['Close_roll_mean_7'] - btc['Close_roll_mean_30']\n"
   ]
  },
  {
   "cell_type": "code",
   "execution_count": 52,
   "id": "fb2ea8cd",
   "metadata": {},
   "outputs": [],
   "source": [
    "# Rolling averages and momentum of trading volume.\n",
    "btc['Volume_roll_mean_7'] = btc['Volume'].rolling(7).mean()\n",
    "btc['Volume_momentum_1'] = btc['Volume'] - btc['Volume'].shift(1)\n"
   ]
  },
  {
   "cell_type": "code",
   "execution_count": 53,
   "metadata": {},
   "outputs": [],
   "source": [
    "# Drop rows with NaN created by feature engineering\n",
    "btc.dropna(inplace=True)\n",
    "\n",
    "btc.to_csv(\"btc_2_feature_engineered.csv\", index=False)"
   ]
  },
  {
   "cell_type": "code",
   "execution_count": 55,
   "metadata": {},
   "outputs": [],
   "source": [
    "scaler = StandardScaler()\n",
    "X_scaled = scaler.fit_transform(X)\n",
    "\n",
    "# Train-test split\n",
    "X_train, X_test, y_train, y_test = train_test_split(X_scaled, y, shuffle=False, test_size=0.2)\n"
   ]
  },
  {
   "cell_type": "code",
   "execution_count": 56,
   "metadata": {},
   "outputs": [
    {
     "name": "stdout",
     "output_type": "stream",
     "text": [
      "{'LinearRegression': {'R2': 0.9977556824042101, 'RMSE': np.float64(906.7323267010617), 'MAE': np.float64(655.562935535075)}, 'RandomForest': {'R2': -0.7086450474659955, 'RMSE': np.float64(25018.592202053074), 'MAE': np.float64(19872.813675460446)}, 'XGBoost': {'R2': -0.7239527702331543, 'RMSE': np.float64(25130.412605821384), 'MAE': np.float64(20099.61031853865)}}\n"
     ]
    }
   ],
   "source": [
    "models = {\n",
    "    \"LinearRegression\": LinearRegression(),\n",
    "    \"RandomForest\": RandomForestRegressor(random_state=42),\n",
    "    \"XGBoost\": XGBRegressor(random_state=42)\n",
    "}\n",
    "\n",
    "model_scores = {}\n",
    "for name, model in models.items():\n",
    "    model.fit(X_train, y_train)\n",
    "    y_pred = model.predict(X_test)\n",
    "    model_scores[name] = {\n",
    "        \"R2\": r2_score(y_test, y_pred),\n",
    "        \"RMSE\": mean_squared_error(y_test, y_pred, squared=False),\n",
    "        \"MAE\": mean_absolute_error(y_test, y_pred)\n",
    "    }\n",
    "\n",
    "print(model_scores)\n"
   ]
  },
  {
   "cell_type": "code",
   "execution_count": 57,
   "id": "152ba9fb",
   "metadata": {},
   "outputs": [
    {
     "name": "stdout",
     "output_type": "stream",
     "text": [
      "Model scores saved to btc_model_scores.csv\n"
     ]
    }
   ],
   "source": [
    "# Convert to DataFrame\n",
    "scores_df = pd.DataFrame(model_scores)\n",
    "\n",
    "# Save to CSV\n",
    "scores_df.to_csv(\"btc_model_scores.csv\", index=False)\n",
    "print(\"Model scores saved to btc_model_scores.csv\")"
   ]
  },
  {
   "cell_type": "markdown",
   "id": "4b092f3b",
   "metadata": {},
   "source": [
    "# Hyperparameter Tuning"
   ]
  },
  {
   "cell_type": "code",
   "execution_count": 64,
   "id": "22db3566",
   "metadata": {},
   "outputs": [
    {
     "name": "stdout",
     "output_type": "stream",
     "text": [
      "Best Ridge params: {'alpha': 0.1}\n",
      "Ridge -> R2: 0.9978, RMSE: 902.22, MAE: 660.09\n"
     ]
    }
   ],
   "source": [
    "# Ridge hyperparameter tuning\n",
    "ridge = Ridge()\n",
    "params_ridge = {\"alpha\": [0.1, 1.0, 10, 100]}\n",
    "grid_ridge = GridSearchCV(ridge, params_ridge, cv=5)\n",
    "grid_ridge.fit(X_train, y_train)\n",
    "\n",
    "print(\"Best Ridge params:\", grid_ridge.best_params_)\n",
    "\n",
    "# Best Ridge model\n",
    "best_ridge = grid_ridge.best_estimator_\n",
    "y_pred_ridge = best_ridge.predict(X_test)\n",
    "\n",
    "# Evaluate\n",
    "r2 = r2_score(y_test, y_pred_ridge)\n",
    "rmse = mean_squared_error(y_test, y_pred_ridge, squared=False)\n",
    "mae = mean_absolute_error(y_test, y_pred_ridge)\n",
    "print(f\"Ridge -> R2: {r2:.4f}, RMSE: {rmse:.2f}, MAE: {mae:.2f}\")"
   ]
  },
  {
   "cell_type": "code",
   "execution_count": 65,
   "id": "ea8151aa",
   "metadata": {},
   "outputs": [
    {
     "name": "stdout",
     "output_type": "stream",
     "text": [
      "Best RF params: {'max_depth': 10, 'min_samples_split': 5, 'n_estimators': 100}\n",
      "Random Forest -> R2: -0.7568, RMSE: 25368.48, MAE: 20194.07\n"
     ]
    }
   ],
   "source": [
    "rf = RandomForestRegressor(random_state=42)\n",
    "params_rf = {\n",
    "    \"n_estimators\": [100, 200],\n",
    "    \"max_depth\": [5, 10, 15],\n",
    "    \"min_samples_split\": [2, 5]\n",
    "}\n",
    "grid_rf = GridSearchCV(rf, params_rf, cv=3)\n",
    "grid_rf.fit(X_train, y_train)\n",
    "\n",
    "print(\"Best RF params:\", grid_rf.best_params_)\n",
    "\n",
    "best_rf = grid_rf.best_estimator_\n",
    "y_pred_rf = best_rf.predict(X_test)\n",
    "\n",
    "# Evaluate\n",
    "r2 = r2_score(y_test, y_pred_rf)\n",
    "rmse = mean_squared_error(y_test, y_pred_rf, squared=False)\n",
    "mae = mean_absolute_error(y_test, y_pred_rf)\n",
    "print(f\"Random Forest -> R2: {r2:.4f}, RMSE: {rmse:.2f}, MAE: {mae:.2f}\")\n"
   ]
  },
  {
   "cell_type": "code",
   "execution_count": 66,
   "id": "05e3fe48",
   "metadata": {},
   "outputs": [
    {
     "name": "stdout",
     "output_type": "stream",
     "text": [
      "Best XGB params: {'n_estimators': 200, 'max_depth': 5, 'learning_rate': 0.1}\n",
      "XGBoost -> R2: -0.7325, RMSE: 25192.43, MAE: 20112.03\n"
     ]
    }
   ],
   "source": [
    "from xgboost import XGBRegressor\n",
    "from sklearn.model_selection import RandomizedSearchCV\n",
    "\n",
    "xgb = XGBRegressor(random_state=42)\n",
    "params_xgb = {\n",
    "    \"n_estimators\":[100, 200],\n",
    "    \"learning_rate\":[0.01, 0.1],\n",
    "    \"max_depth\":[3, 5, 7]\n",
    "}\n",
    "\n",
    "rand_xgb = RandomizedSearchCV(xgb, params_xgb, cv=3, n_iter=5, random_state=42)\n",
    "rand_xgb.fit(X_train, y_train)\n",
    "\n",
    "print(\"Best XGB params:\", rand_xgb.best_params_)\n",
    "\n",
    "best_xgb = rand_xgb.best_estimator_\n",
    "y_pred_xgb = best_xgb.predict(X_test)\n",
    "\n",
    "# Evaluate\n",
    "r2 = r2_score(y_test, y_pred_xgb)\n",
    "rmse = mean_squared_error(y_test, y_pred_xgb, squared=False)\n",
    "mae = mean_absolute_error(y_test, y_pred_xgb)\n",
    "print(f\"XGBoost -> R2: {r2:.4f}, RMSE: {rmse:.2f}, MAE: {mae:.2f}\")\n"
   ]
  },
  {
   "cell_type": "code",
   "execution_count": 67,
   "id": "c4fc6dd9",
   "metadata": {},
   "outputs": [],
   "source": [
    "\n",
    "results = [\n",
    "    {\"Model\":\"Ridge\", \"R2\":r2_score(y_test, y_pred_ridge), \"RMSE\":mean_squared_error(y_test, y_pred_ridge, squared=False), \"MAE\":mean_absolute_error(y_test, y_pred_ridge)},\n",
    "    {\"Model\":\"Random Forest\", \"R2\":r2_score(y_test, y_pred_rf), \"RMSE\":mean_squared_error(y_test, y_pred_rf, squared=False), \"MAE\":mean_absolute_error(y_test, y_pred_rf)},\n",
    "    {\"Model\":\"XGBoost\", \"R2\":r2_score(y_test, y_pred_xgb), \"RMSE\":mean_squared_error(y_test, y_pred_xgb, squared=False), \"MAE\":mean_absolute_error(y_test, y_pred_xgb)}\n",
    "]\n",
    "\n",
    "pd.DataFrame(results).to_csv(\"btc_tuned_model_scores.csv\", index=False)\n"
   ]
  },
  {
   "cell_type": "code",
   "execution_count": 71,
   "id": "f0a78f17",
   "metadata": {},
   "outputs": [
    {
     "data": {
      "text/plain": [
       "['best_xgb_model.pkl']"
      ]
     },
     "execution_count": 71,
     "metadata": {},
     "output_type": "execute_result"
    }
   ],
   "source": [
    "import joblib\n",
    "\n",
    "joblib.dump(best_ridge, \"best_ridge_model.pkl\")\n",
    "joblib.dump(best_rf, \"best_rf_model.pkl\")\n",
    "joblib.dump(best_xgb, \"best_xgb_model.pkl\")\n",
    "\n"
   ]
  },
  {
   "cell_type": "code",
   "execution_count": 75,
   "id": "545b64e4",
   "metadata": {},
   "outputs": [
    {
     "name": "stderr",
     "output_type": "stream",
     "text": [
      "2025-09-02 02:25:14.989 Thread 'MainThread': missing ScriptRunContext! This warning can be ignored when running in bare mode.\n",
      "2025-09-02 02:25:15.045 Thread 'MainThread': missing ScriptRunContext! This warning can be ignored when running in bare mode.\n"
     ]
    },
    {
     "data": {
      "text/plain": [
       "DeltaGenerator()"
      ]
     },
     "execution_count": 75,
     "metadata": {},
     "output_type": "execute_result"
    }
   ],
   "source": [
    "# Save as streamlit_app.py\n",
    "import streamlit as st\n",
    "\n",
    "# Load data and model\n",
    "btc = pd.read_csv(\"btc_processed.csv\")\n",
    "model = joblib.load(\"best_ridge_model.pkl\")  # example\n",
    "\n",
    "st.title(\"Bitcoin Price Prediction\")\n"
   ]
  },
  {
   "cell_type": "code",
   "execution_count": 88,
   "id": "cb1ecb12",
   "metadata": {},
   "outputs": [],
   "source": [
    "import streamlit as st\n",
    "import pandas as pd\n",
    "\n",
    "# Example: load your BTC dataset\n",
    "\n",
    "btc = pd.read_csv(\"bitcoin.csv\")\n",
    "\n",
    "# Ensure Date column exists and is datetime\n",
    "if 'Date' in btc.columns:\n",
    "    btc['Date'] = pd.to_datetime(btc['Date'], errors='coerce')\n",
    "    btc.set_index('Date', inplace=True)\n",
    "else:\n",
    "    st.error(\"No Date column found!\")"
   ]
  },
  {
   "cell_type": "code",
   "execution_count": 89,
   "id": "c7fcdab4",
   "metadata": {},
   "outputs": [
    {
     "name": "stderr",
     "output_type": "stream",
     "text": [
      "2025-09-02 02:43:07.428 Thread 'MainThread': missing ScriptRunContext! This warning can be ignored when running in bare mode.\n",
      "2025-09-02 02:43:07.443 Thread 'MainThread': missing ScriptRunContext! This warning can be ignored when running in bare mode.\n",
      "2025-09-02 02:43:07.523 Thread 'MainThread': missing ScriptRunContext! This warning can be ignored when running in bare mode.\n",
      "2025-09-02 02:43:07.561 Thread 'MainThread': missing ScriptRunContext! This warning can be ignored when running in bare mode.\n",
      "2025-09-02 02:43:07.663 Thread 'MainThread': missing ScriptRunContext! This warning can be ignored when running in bare mode.\n",
      "2025-09-02 02:43:07.684 Thread 'MainThread': missing ScriptRunContext! This warning can be ignored when running in bare mode.\n",
      "2025-09-02 02:43:07.706 Thread 'MainThread': missing ScriptRunContext! This warning can be ignored when running in bare mode.\n",
      "2025-09-02 02:43:07.717 Thread 'MainThread': missing ScriptRunContext! This warning can be ignored when running in bare mode.\n",
      "2025-09-02 02:43:07.727 Thread 'MainThread': missing ScriptRunContext! This warning can be ignored when running in bare mode.\n",
      "2025-09-02 02:43:07.728 Thread 'MainThread': missing ScriptRunContext! This warning can be ignored when running in bare mode.\n"
     ]
    }
   ],
   "source": [
    "# Now btc.index is datetime, you can safely use .date()\n",
    "start_date = st.date_input(\"Start date\", btc.index.min().date())\n",
    "end_date = st.date_input(\"End date\", btc.index.max().date())"
   ]
  },
  {
   "cell_type": "code",
   "execution_count": 90,
   "id": "56449950",
   "metadata": {},
   "outputs": [],
   "source": [
    "# Filter BTC data by selected date range\n",
    "mask = (btc.index >= pd.to_datetime(start_date)) & (btc.index <= pd.to_datetime(end_date))\n",
    "filtered_btc = btc.loc[mask]"
   ]
  },
  {
   "cell_type": "code",
   "execution_count": 91,
   "id": "e73d4d14",
   "metadata": {},
   "outputs": [
    {
     "name": "stderr",
     "output_type": "stream",
     "text": [
      "2025-09-02 02:43:31.288 Thread 'MainThread': missing ScriptRunContext! This warning can be ignored when running in bare mode.\n",
      "2025-09-02 02:43:31.297 Thread 'MainThread': missing ScriptRunContext! This warning can be ignored when running in bare mode.\n",
      "2025-09-02 02:43:35.557 Thread 'MainThread': missing ScriptRunContext! This warning can be ignored when running in bare mode.\n",
      "2025-09-02 02:43:35.562 Thread 'MainThread': missing ScriptRunContext! This warning can be ignored when running in bare mode.\n"
     ]
    },
    {
     "data": {
      "text/plain": [
       "DeltaGenerator()"
      ]
     },
     "execution_count": 91,
     "metadata": {},
     "output_type": "execute_result"
    }
   ],
   "source": [
    "# Display filtered BTC data\n",
    "st.subheader(f\"BTC Data from {start_date} to {end_date}\")\n",
    "st.dataframe(filtered_btc)"
   ]
  },
  {
   "cell_type": "code",
   "execution_count": 92,
   "id": "5848b754",
   "metadata": {},
   "outputs": [
    {
     "name": "stderr",
     "output_type": "stream",
     "text": [
      "2025-09-02 02:43:55.047 Thread 'MainThread': missing ScriptRunContext! This warning can be ignored when running in bare mode.\n",
      "2025-09-02 02:43:55.053 Thread 'MainThread': missing ScriptRunContext! This warning can be ignored when running in bare mode.\n",
      "2025-09-02 02:43:55.060 Thread 'MainThread': missing ScriptRunContext! This warning can be ignored when running in bare mode.\n",
      "2025-09-02 02:43:55.077 Thread 'MainThread': missing ScriptRunContext! This warning can be ignored when running in bare mode.\n",
      "2025-09-02 02:43:55.079 Thread 'MainThread': missing ScriptRunContext! This warning can be ignored when running in bare mode.\n"
     ]
    }
   ],
   "source": [
    "# Predicted BTC price for a specific date\n",
    "selected_date = st.date_input(\n",
    "    \"Select a date to view predicted BTC price\",\n",
    "    value=btc.index.max().date(),\n",
    "    min_value=btc.index.min().date(),\n",
    "    max_value=btc.index.max().date()\n",
    ")"
   ]
  },
  {
   "cell_type": "code",
   "execution_count": 93,
   "id": "8bb7a9c6",
   "metadata": {},
   "outputs": [
    {
     "name": "stderr",
     "output_type": "stream",
     "text": [
      "2025-09-02 02:44:10.123 Thread 'MainThread': missing ScriptRunContext! This warning can be ignored when running in bare mode.\n",
      "2025-09-02 02:44:10.129 Thread 'MainThread': missing ScriptRunContext! This warning can be ignored when running in bare mode.\n",
      "2025-09-02 02:44:10.145 Thread 'MainThread': missing ScriptRunContext! This warning can be ignored when running in bare mode.\n",
      "2025-09-02 02:44:10.149 Thread 'MainThread': missing ScriptRunContext! This warning can be ignored when running in bare mode.\n"
     ]
    }
   ],
   "source": [
    "selected_date_ts = pd.to_datetime(selected_date)\n",
    "if selected_date_ts in btc.index and 'Predicted_Close' in btc.columns:\n",
    "    pred_price = btc.loc[selected_date_ts, 'Predicted_Close']\n",
    "    st.write(f\"Predicted BTC price on {selected_date}: ${pred_price:,.2f}\")\n",
    "else:\n",
    "    st.write(\"Prediction for the selected date is not available.\")"
   ]
  },
  {
   "cell_type": "code",
   "execution_count": 15,
   "id": "655d9ab0",
   "metadata": {},
   "outputs": [
    {
     "data": {
      "image/png": "[encoded data removed]",
      "text/plain": [
       "<Figure size 640x480 with 1 Axes>"
      ]
     },
     "metadata": {},
     "output_type": "display_data"
    }
   ],
   "source": [
    "import pandas as pd\n",
    "import matplotlib.pyplot as plt\n",
    "\n",
    "# Load CSV\n",
    "btc = pd.read_csv(\"bitcoin.csv\")\n",
    "\n",
    "# Ensure Date column is datetime\n",
    "btc[\"Date\"] = pd.to_datetime(btc[\"Date\"], errors=\"coerce\")\n",
    "\n",
    "# Ensure Close column is numeric\n",
    "btc[\"Close\"] = pd.to_numeric(btc[\"Close\"], errors=\"coerce\")\n",
    "\n",
    "# Drop rows where Date or Close is missing\n",
    "btc = btc.dropna(subset=[\"Date\", \"Close\"])\n",
    "\n",
    "# Now plot safely\n",
    "plt.plot(btc[\"Date\"], btc[\"Close\"], label=\"BTC Close Price\", color=\"orange\")\n",
    "plt.xlabel(\"Date\")\n",
    "plt.ylabel(\"Close Price (USD)\")\n",
    "plt.title(\"Bitcoin Price Over Time\")\n",
    "plt.legend()\n",
    "plt.show()\n"
   ]
  },
  {
   "cell_type": "code",
   "execution_count": 16,
   "id": "7231a8c8",
   "metadata": {},
   "outputs": [
    {
     "name": "stdout",
     "output_type": "stream",
     "text": [
      "Date      datetime64[ns]\n",
      "Close            float64\n",
      "High              object\n",
      "Low               object\n",
      "Open              object\n",
      "Volume            object\n",
      "dtype: object\n",
      "        Date        Close              High               Low  \\\n",
      "2 2020-01-01  7200.174316  7254.33056640625   7174.9443359375   \n",
      "3 2020-01-02  6985.470215   7212.1552734375  6935.27001953125   \n",
      "4 2020-01-03  7344.884277  7413.71533203125       6914.996094   \n",
      "5 2020-01-04  7410.656738   7427.3857421875  7309.51416015625   \n",
      "6 2020-01-05  7411.317383   7544.4970703125  7400.53564453125   \n",
      "\n",
      "               Open       Volume  \n",
      "2  7194.89208984375  18565664997  \n",
      "3  7202.55126953125  20802083465  \n",
      "4   6984.4287109375  28111481032  \n",
      "5  7345.37548828125  18444271275  \n",
      "6  7410.45166015625  19725074095  \n"
     ]
    }
   ],
   "source": [
    "print(btc.dtypes)\n",
    "print(btc.head())\n"
   ]
  },
  {
   "cell_type": "code",
   "execution_count": 17,
   "id": "25b119e6",
   "metadata": {},
   "outputs": [],
   "source": [
    "import streamlit as st\n",
    "import pandas as pd\n",
    "import matplotlib.pyplot as plt\n",
    "import seaborn as sns"
   ]
  },
  {
   "cell_type": "code",
   "execution_count": 29,
   "id": "760d22c3",
   "metadata": {},
   "outputs": [
    {
     "name": "stderr",
     "output_type": "stream",
     "text": [
      "2025-09-02 05:47:34.408 Thread 'MainThread': missing ScriptRunContext! This warning can be ignored when running in bare mode.\n",
      "2025-09-02 05:47:34.417 Thread 'MainThread': missing ScriptRunContext! This warning can be ignored when running in bare mode.\n",
      "2025-09-02 05:47:34.421 Thread 'MainThread': missing ScriptRunContext! This warning can be ignored when running in bare mode.\n",
      "2025-09-02 05:47:34.427 Thread 'MainThread': missing ScriptRunContext! This warning can be ignored when running in bare mode.\n",
      "2025-09-02 05:47:34.429 Thread 'MainThread': missing ScriptRunContext! This warning can be ignored when running in bare mode.\n",
      "2025-09-02 05:47:34.439 Thread 'MainThread': missing ScriptRunContext! This warning can be ignored when running in bare mode.\n",
      "2025-09-02 05:47:34.443 Thread 'MainThread': missing ScriptRunContext! This warning can be ignored when running in bare mode.\n",
      "2025-09-02 05:47:34.450 Thread 'MainThread': missing ScriptRunContext! This warning can be ignored when running in bare mode.\n",
      "2025-09-02 05:47:34.451 Thread 'MainThread': missing ScriptRunContext! This warning can be ignored when running in bare mode.\n"
     ]
    }
   ],
   "source": [
    "# --- Title ---\n",
    "st.title(\"📈 Bitcoin Price Analysis App\")\n",
    "\n",
    "# --- Upload CSV ---\n",
    "uploaded_file = st.file_uploader(\"Upload your BTC-USD.csv file\", type=[\"csv\"])\n",
    "\n",
    "if uploaded_file is not None:\n",
    "    # Load dataset\n",
    "    btc = pd.read_csv(uploaded_file)\n",
    "\n",
    "    # --- Data Cleaning ---\n",
    "    # Convert Date column to datetime\n",
    "    btc[\"Date\"] = pd.to_datetime(btc[\"Date\"], errors=\"coerce\")\n",
    "\n",
    "    # Convert Close column to numeric\n",
    "    btc[\"Close\"] = pd.to_numeric(btc[\"Close\"], errors=\"coerce\")\n",
    "\n",
    "    # Drop missing values\n",
    "    btc = btc.dropna(subset=[\"Date\", \"Close\"])\n",
    "\n",
    "    # --- Show Dataset ---\n",
    "    st.subheader(\"🔎 Data Preview\")\n",
    "    st.write(btc.head())\n",
    "\n",
    "    # --- Plot Closing Price ---\n",
    "    st.subheader(\"📊 Bitcoin Closing Price Over Time\")\n",
    "    fig, ax = plt.subplots(figsize=(10, 5))\n",
    "    ax.plot(btc[\"Date\"], btc[\"Close\"], label=\"BTC Close Price\", color=\"orange\")\n",
    "    ax.set_xlabel(\"Date\")\n",
    "    ax.set_ylabel(\"Price (USD)\")\n",
    "    ax.set_title(\"Bitcoin Price Over Time\")\n",
    "    ax.legend()\n",
    "    st.pyplot(fig)\n",
    "\n",
    "    # --- Histogram ---\n",
    "    st.subheader(\"📊 Price Distribution\")\n",
    "    fig, ax = plt.subplots(figsize=(8, 4))\n",
    "    sns.histplot(btc[\"Close\"], bins=50, kde=True, ax=ax, color=\"blue\")\n",
    "    ax.set_xlabel(\"Price (USD)\")\n",
    "    ax.set_title(\"Distribution of Closing Prices\")\n",
    "    st.pyplot(fig)\n",
    "\n",
    "    # --- Moving Average ---\n",
    "    st.subheader(\"📈 30-Day Moving Average\")\n",
    "    btc[\"MA30\"] = btc[\"Close\"].rolling(30).mean()\n",
    "    fig, ax = plt.subplots(figsize=(10, 5))\n",
    "    ax.plot(btc[\"Date\"], btc[\"Close\"], label=\"Close Price\", alpha=0.6)\n",
    "    ax.plot(btc[\"Date\"], btc[\"MA30\"], label=\"30-Day MA\", color=\"red\")\n",
    "    ax.set_title(\"Bitcoin Price with 30-Day Moving Average\")\n",
    "    ax.legend()\n",
    "    st.pyplot(fig)\n",
    "\n",
    "else:\n",
    "    st.info(\"👆 Please upload a BTC-USD.csv file to get started.\")\n"
   ]
  }
 ],
 "metadata": {
  "kernelspec": {
   "display_name": "Python 3",
   "language": "python",
   "name": "python3"
  },
  "language_info": {
   "codemirror_mode": {
    "name": "ipython",
    "version": 3
   },
   "file_extension": ".py",
   "mimetype": "text/x-python",
   "name": "python",
   "nbconvert_exporter": "python",
   "pygments_lexer": "ipython3",
   "version": "3.13.2"
  }
 },
 "nbformat": 4,
 "nbformat_minor": 5
}

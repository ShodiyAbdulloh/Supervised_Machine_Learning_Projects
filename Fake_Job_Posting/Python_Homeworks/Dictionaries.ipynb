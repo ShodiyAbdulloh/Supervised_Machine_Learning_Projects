{
 "cells": [
  {
   "cell_type": "markdown",
   "metadata": {},
   "source": [
    "# Dictionary"
   ]
  },
  {
   "cell_type": "markdown",
   "metadata": {},
   "source": [
    "#Lugatda nimalardi organdik"
   ]
  },
  {
   "cell_type": "code",
   "execution_count": null,
   "metadata": {},
   "outputs": [],
   "source": [
    "# Dictionary keys hamda values lardan tashkil topgan\n",
    "# dictionary tartibsiz (unordered), va ozgaruvchan (mutable)\n",
    "# Kalitlar- unique bolishi kerak.\n",
    "# valueslar har turdagi bolishi  mumkin (raqamlar, str, list\n",
    "#my_dict={\n",
    "#    'ismi':'ShodiyAbdulloh',\n",
    "#   'yoshi':xxx,\n",
    "#    'kasbi':'student'\n",
    "# }  my_dict   bu lugatni yaratilishi \n",
    "# my_dict.keys() keyslardi korish usuli\n",
    "# Valuelardi korish usuli\n",
    "# my_dict['joyi']='Toshkent' Element qo'shish usuli\n",
    "# del my_dict['joyi'] dixtionary dan elementni ochirish usuli\n",
    "# my_dict['key'] keyning qiymatini korish\n",
    "# len(my_dict) bilan biz uzunligini korishimiz mumkin\n",
    "# my_dict.clear() dictionaryimizdi tozalab tashemiz\n",
    "# my_dict['joyi']='Toshkent'  elementlarni qoshish usuli"
   ]
  },
  {
   "cell_type": "code",
   "execution_count": null,
   "metadata": {},
   "outputs": [
    {
     "data": {
      "text/plain": [
       "{'ismi': 'ShodiyAbdulloh', 'yoshi': 990, 'kasbi': 'Student'}"
      ]
     },
     "execution_count": 7,
     "metadata": {},
     "output_type": "execute_result"
    }
   ],
   "source": [
    "# dictionaryni tuzilishi\n",
    "\n",
    "my_dict={\n",
    "    'ismi':'ShodiyAbdulloh',\n",
    "    'yoshi':990,\n",
    "    'kasbi':'Student'\n",
    "}\n",
    "my_dict\n"
   ]
  },
  {
   "cell_type": "code",
   "execution_count": 8,
   "metadata": {},
   "outputs": [
    {
     "data": {
      "text/plain": [
       "dict_keys(['ismi', 'yoshi', 'kasbi'])"
      ]
     },
     "execution_count": 8,
     "metadata": {},
     "output_type": "execute_result"
    }
   ],
   "source": [
    "#Keys korish usuli\n",
    "my_dict.keys()\n"
   ]
  },
  {
   "cell_type": "code",
   "execution_count": 10,
   "metadata": {},
   "outputs": [
    {
     "data": {
      "text/plain": [
       "dict_values(['ShodiyAbdulloh', 990, 'Student'])"
      ]
     },
     "execution_count": 10,
     "metadata": {},
     "output_type": "execute_result"
    }
   ],
   "source": [
    "# Valueslardi korish usuli\n",
    "\n",
    "my_dict.values()"
   ]
  },
  {
   "cell_type": "code",
   "execution_count": 12,
   "metadata": {},
   "outputs": [
    {
     "data": {
      "text/plain": [
       "{'ismi': 'ShodiyAbdulloh',\n",
       " 'yoshi': 990,\n",
       " 'kasbi': 'Student',\n",
       " 'millati': 'Uzbek'}"
      ]
     },
     "execution_count": 12,
     "metadata": {},
     "output_type": "execute_result"
    }
   ],
   "source": [
    "my_dict[\"millati\"]='Uzbek'\n",
    "my_dict"
   ]
  },
  {
   "cell_type": "code",
   "execution_count": 13,
   "metadata": {},
   "outputs": [
    {
     "data": {
      "text/plain": [
       "{'ismi': 'ShodiyAbdulloh', 'kasbi': 'Student', 'millati': 'Uzbek'}"
      ]
     },
     "execution_count": 13,
     "metadata": {},
     "output_type": "execute_result"
    }
   ],
   "source": [
    "# ochirish usuli \n",
    "\n",
    "del my_dict['yoshi']\n",
    "my_dict"
   ]
  },
  {
   "cell_type": "code",
   "execution_count": 14,
   "metadata": {},
   "outputs": [
    {
     "data": {
      "text/plain": [
       "'ShodiyAbdulloh'"
      ]
     },
     "execution_count": 14,
     "metadata": {},
     "output_type": "execute_result"
    }
   ],
   "source": [
    "# Qiymatga murojat qilish usuli\n",
    "my_dict['ismi']"
   ]
  },
  {
   "cell_type": "code",
   "execution_count": 15,
   "metadata": {},
   "outputs": [
    {
     "data": {
      "text/plain": [
       "'Uzbek'"
      ]
     },
     "execution_count": 15,
     "metadata": {},
     "output_type": "execute_result"
    }
   ],
   "source": [
    "# keyning qiymatini korish\n",
    "my_dict[\"millati\"]"
   ]
  },
  {
   "cell_type": "code",
   "execution_count": 16,
   "metadata": {},
   "outputs": [
    {
     "data": {
      "text/plain": [
       "3"
      ]
     },
     "execution_count": 16,
     "metadata": {},
     "output_type": "execute_result"
    }
   ],
   "source": [
    "# uznuligini olchash usuli\n",
    "\n",
    "len(my_dict)"
   ]
  },
  {
   "cell_type": "code",
   "execution_count": 18,
   "metadata": {},
   "outputs": [
    {
     "name": "stdout",
     "output_type": "stream",
     "text": [
      "{}\n"
     ]
    }
   ],
   "source": [
    "# ochirib tashlash usuli\n",
    "\n",
    "my_dict.clear()\n",
    "print(my_dict)"
   ]
  },
  {
   "cell_type": "code",
   "execution_count": 20,
   "metadata": {},
   "outputs": [
    {
     "data": {
      "text/plain": [
       "{'ismi': 'ShodiyAbdulloh', 'yoshi': 990, 'kasbi': 'Student'}"
      ]
     },
     "execution_count": 20,
     "metadata": {},
     "output_type": "execute_result"
    }
   ],
   "source": [
    "my_dict={\n",
    "    'ismi':'ShodiyAbdulloh',\n",
    "    'yoshi':990,\n",
    "    'kasbi':'Student'\n",
    "}\n",
    "my_dict"
   ]
  },
  {
   "cell_type": "code",
   "execution_count": 21,
   "metadata": {},
   "outputs": [
    {
     "name": "stdout",
     "output_type": "stream",
     "text": [
      "ismi\n",
      "yoshi\n",
      "kasbi\n"
     ]
    }
   ],
   "source": [
    "# for bilan korib koramiz\n",
    "\n",
    "for key in my_dict:\n",
    "    print(key)"
   ]
  },
  {
   "cell_type": "code",
   "execution_count": 23,
   "metadata": {},
   "outputs": [
    {
     "data": {
      "text/plain": [
       "True"
      ]
     },
     "execution_count": 23,
     "metadata": {},
     "output_type": "execute_result"
    }
   ],
   "source": [
    "# dictionarimizda element bor yoki yoligini tekshirish\n",
    "\n",
    "'yoshi' in my_dict"
   ]
  },
  {
   "cell_type": "code",
   "execution_count": 24,
   "metadata": {},
   "outputs": [
    {
     "data": {
      "text/plain": [
       "False"
      ]
     },
     "execution_count": 24,
     "metadata": {},
     "output_type": "execute_result"
    }
   ],
   "source": [
    "\"millati\" in my_dict"
   ]
  },
  {
   "cell_type": "code",
   "execution_count": 30,
   "metadata": {},
   "outputs": [
    {
     "name": "stdout",
     "output_type": "stream",
     "text": [
      "ShodiyAbdulloh- Student\n"
     ]
    }
   ],
   "source": [
    "if 'ismi' in my_dict and 'kasbi' in my_dict:\n",
    "    result=my_dict['ismi']+ '- ' + my_dict['kasbi']\n",
    "print(result)"
   ]
  }
 ],
 "metadata": {
  "kernelspec": {
   "display_name": "Python 3",
   "language": "python",
   "name": "python3"
  },
  "language_info": {
   "codemirror_mode": {
    "name": "ipython",
    "version": 3
   },
   "file_extension": ".py",
   "mimetype": "text/x-python",
   "name": "python",
   "nbconvert_exporter": "python",
   "pygments_lexer": "ipython3",
   "version": "3.13.0"
  }
 },
 "nbformat": 4,
 "nbformat_minor": 2
}

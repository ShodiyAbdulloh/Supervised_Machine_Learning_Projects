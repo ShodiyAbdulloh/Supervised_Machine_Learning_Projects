{
 "cells": [
  {
   "cell_type": "markdown",
   "metadata": {},
   "source": [
    "# List"
   ]
  },
  {
   "cell_type": "markdown",
   "metadata": {},
   "source": [
    "#List nimalardi organdik takrorlaymiz"
   ]
  },
  {
   "cell_type": "code",
   "execution_count": null,
   "metadata": {},
   "outputs": [],
   "source": [
    "# my_list=[] list yaratamiz\n",
    "# my_list=[x] indexni topish\n",
    "# my_list=[2:5] 2 indexdan 5 indexgacha olamiz degani\n",
    "# my_list=[1:] 1 index dan keyingisini olamiz degani\n",
    "# my_list=[:6] 6 indexgacha olamiz degani\n",
    "# my_list.appent(x) listga qiymat qoshish usuli\n",
    "# my_list.insert(x) istalgan joyga qoshsak boladi\n",
    "# my_list.pop(index) ochirish usuli\n",
    "# my_list.index(x) index topish usuli\n",
    "# my_list.pop() ohiridan avto ochirish\n",
    "# del my_list [2] 2 indexni ochirib tashla \n",
    "# del my_list[3:6] 3 indexdan 6 indexgacha ochirish usuli"
   ]
  },
  {
   "cell_type": "code",
   "execution_count": 5,
   "metadata": {},
   "outputs": [
    {
     "name": "stdout",
     "output_type": "stream",
     "text": [
      "[1, 2, 3, 4, 5]\n",
      "[7, 'kema', 3.14, [44, 55, 66]]\n"
     ]
    }
   ],
   "source": [
    "# List tuzilishi\n",
    "\n",
    "my_list = [1, 2, 3, 4, 5]\n",
    "\n",
    "# Listda turli xil data typeslar bilan ishlashimiz mumkin (Int, str,object)\n",
    "\n",
    "turlixil_list = [7, \"kema\", 3.14, [44, 55, 66]]\n",
    " \n",
    "print(my_list)\n",
    "print(turlixil_list)"
   ]
  },
  {
   "cell_type": "code",
   "execution_count": 33,
   "metadata": {},
   "outputs": [
    {
     "data": {
      "text/plain": [
       "35"
      ]
     },
     "execution_count": 33,
     "metadata": {},
     "output_type": "execute_result"
    }
   ],
   "source": [
    "# Indexing lar bilan ishlash\n",
    "\n",
    "takrorlash_list1=[5,15,25,35,45,55,('ona','bola','ota'), 23.5, 2,4, False]\n",
    "takrorlash_list1[3]"
   ]
  },
  {
   "cell_type": "code",
   "execution_count": 35,
   "metadata": {},
   "outputs": [
    {
     "data": {
      "text/plain": [
       "[5, 15, 25, 35, 45, 55, ('ona', 'bola', 'ota'), 23.5, 2, 4, False]"
      ]
     },
     "execution_count": 35,
     "metadata": {},
     "output_type": "execute_result"
    }
   ],
   "source": [
    "# Sclicing(malum bir oraliqdagi ketma ketlikni ajratib olish)\n",
    "takrorlash_list1"
   ]
  },
  {
   "cell_type": "code",
   "execution_count": 38,
   "metadata": {},
   "outputs": [
    {
     "data": {
      "text/plain": [
       "5"
      ]
     },
     "execution_count": 38,
     "metadata": {},
     "output_type": "execute_result"
    }
   ],
   "source": [
    "# Indexni qanday topamiz\n",
    "\n",
    "takrorlash_list1.index(55)"
   ]
  },
  {
   "cell_type": "code",
   "execution_count": 39,
   "metadata": {},
   "outputs": [
    {
     "data": {
      "text/plain": [
       "[15, 25, 35, 45, 55, ('ona', 'bola', 'ota'), 23.5, 2, 4, False]"
      ]
     },
     "execution_count": 39,
     "metadata": {},
     "output_type": "execute_result"
    }
   ],
   "source": [
    "# malum bir sondan keyin yoki narsadan keyingisini olish ohirigacha\n",
    "\n",
    "takrorlash_list1[1:]"
   ]
  },
  {
   "cell_type": "code",
   "execution_count": 40,
   "metadata": {},
   "outputs": [
    {
     "data": {
      "text/plain": [
       "[15, 25, 35, 45, 55, ('ona', 'bola', 'ota'), 23.5, 2, 4, False]"
      ]
     },
     "execution_count": 40,
     "metadata": {},
     "output_type": "execute_result"
    }
   ],
   "source": [
    "# malum bir sondan keyin yoki narsadan keyingisini olish ohirigacha\n",
    "\n",
    "takrorlash_list1[1:]"
   ]
  },
  {
   "cell_type": "code",
   "execution_count": 41,
   "metadata": {},
   "outputs": [
    {
     "data": {
      "text/plain": [
       "[25, 35, 45, 55, ('ona', 'bola', 'ota')]"
      ]
     },
     "execution_count": 41,
     "metadata": {},
     "output_type": "execute_result"
    }
   ],
   "source": [
    "# malum bir oraliqdagini olish\n",
    "#list[x(index):y(index)]\n",
    "\n",
    "takrorlash_list1[2:7]"
   ]
  },
  {
   "cell_type": "code",
   "execution_count": 42,
   "metadata": {},
   "outputs": [
    {
     "name": "stdout",
     "output_type": "stream",
     "text": [
      "[5, 15, 25, 35, 45, 55, ('ona', 'bola', 'ota'), 23.5, 2, 4, False, 'dengiz']\n",
      "[5, 15, 25, 'ShodiyAbdulloh', 35, 45, 55, ('ona', 'bola', 'ota'), 23.5, 2, 4, False, 'dengiz']\n"
     ]
    }
   ],
   "source": [
    "#listga elementni qoshish\n",
    "takrorlash_list1.append(\"dengiz\") \n",
    "print(takrorlash_list1) \n",
    "\n",
    "# Istalgan joyga qoshish, list1.insert(index value)\n",
    "\n",
    "takrorlash_list1.insert(3, \"ShodiyAbdulloh\") \n",
    "print(takrorlash_list1) \n"
   ]
  },
  {
   "cell_type": "code",
   "execution_count": null,
   "metadata": {},
   "outputs": [
    {
     "data": {
      "text/plain": [
       "[5, 15, 25, 'ShodiyAbdulloh', 35, 45, 55, ('ona', 'bola', 'ota'), 23.5, 2, 4]"
      ]
     },
     "execution_count": 45,
     "metadata": {},
     "output_type": "execute_result"
    }
   ],
   "source": [
    "# kerakmas elementlarni olib tashlash usuli qanday\n",
    "takrorlash_list1.pop()\n",
    "takrorlash_list1"
   ]
  },
  {
   "cell_type": "code",
   "execution_count": 46,
   "metadata": {},
   "outputs": [
    {
     "data": {
      "text/plain": [
       "35"
      ]
     },
     "execution_count": 46,
     "metadata": {},
     "output_type": "execute_result"
    }
   ],
   "source": [
    "#biz hohlagan joydan ochirish\n",
    "takrorlash_list1.pop(4)"
   ]
  },
  {
   "cell_type": "code",
   "execution_count": 50,
   "metadata": {},
   "outputs": [
    {
     "data": {
      "text/plain": [
       "[5, 15, 25, 'ShodiyAbdulloh', 45, ('ona', 'bola', 'ota'), 23.5, 2, 4]"
      ]
     },
     "execution_count": 50,
     "metadata": {},
     "output_type": "execute_result"
    }
   ],
   "source": [
    "# Ochirish uslini koramiz\n",
    "\n",
    "del takrorlash_list1[5]\n",
    "takrorlash_list1"
   ]
  },
  {
   "cell_type": "code",
   "execution_count": 58,
   "metadata": {},
   "outputs": [
    {
     "data": {
      "text/plain": [
       "[5, 15, 25, 'ShodiyAbdulloh', 45, ('ona', 'bola', 'ota'), 23.5, 2, 4, 'baliq']"
      ]
     },
     "execution_count": 58,
     "metadata": {},
     "output_type": "execute_result"
    }
   ],
   "source": [
    "#listga elementni qoshish Append bilan \n",
    "takrorlash_list1.append('baliq')\n",
    "takrorlash_list1"
   ]
  },
  {
   "cell_type": "code",
   "execution_count": 61,
   "metadata": {},
   "outputs": [
    {
     "data": {
      "text/plain": [
       "[5,\n",
       " 15,\n",
       " 25,\n",
       " 'student',\n",
       " 'student',\n",
       " 'ShodiyAbdulloh',\n",
       " 45,\n",
       " ('ona', 'bola', 'ota'),\n",
       " 23.5,\n",
       " 2,\n",
       " 4,\n",
       " 'baliq']"
      ]
     },
     "execution_count": 61,
     "metadata": {},
     "output_type": "execute_result"
    }
   ],
   "source": [
    "# Istalgan joyga qoshish Insert bilan\n",
    "takrorlash_list1.insert(4,'student')\n",
    "takrorlash_list1"
   ]
  },
  {
   "cell_type": "code",
   "execution_count": 62,
   "metadata": {},
   "outputs": [
    {
     "data": {
      "text/plain": [
       "[5,\n",
       " 15,\n",
       " 25,\n",
       " 'student',\n",
       " 'ShodiyAbdulloh',\n",
       " 45,\n",
       " ('ona', 'bola', 'ota'),\n",
       " 23.5,\n",
       " 2,\n",
       " 4,\n",
       " 'baliq']"
      ]
     },
     "execution_count": 62,
     "metadata": {},
     "output_type": "execute_result"
    }
   ],
   "source": [
    "takrorlash_list1.pop(3)\n",
    "takrorlash_list1"
   ]
  },
  {
   "cell_type": "code",
   "execution_count": 75,
   "metadata": {},
   "outputs": [],
   "source": [
    "# Bosh list hosil qilish usuli\n",
    "z=[0,9,8,7,6,5]\n",
    "a=[]"
   ]
  },
  {
   "cell_type": "code",
   "execution_count": 74,
   "metadata": {},
   "outputs": [
    {
     "name": "stdout",
     "output_type": "stream",
     "text": [
      "[]\n"
     ]
    }
   ],
   "source": [
    "print(a)"
   ]
  },
  {
   "cell_type": "code",
   "execution_count": null,
   "metadata": {},
   "outputs": [
    {
     "name": "stdout",
     "output_type": "stream",
     "text": [
      "[0, 9, 8, 7, 6, 5]\n"
     ]
    }
   ],
   "source": [
    "# for bilan korish\n",
    "\n",
    "for i in z:\n",
    "    a.append(i)\n",
    "print(a)"
   ]
  },
  {
   "cell_type": "code",
   "execution_count": 80,
   "metadata": {},
   "outputs": [],
   "source": [
    "n=[5, 15, 25, 'ShodiyAbdulloh', 35, 45, 55, ('ona', 'bola', 'ota'), 23.5, 2, 4, False, 'dengiz']\n",
    "a=[]"
   ]
  },
  {
   "cell_type": "code",
   "execution_count": 85,
   "metadata": {},
   "outputs": [
    {
     "name": "stdout",
     "output_type": "stream",
     "text": [
      "[2]\n",
      "[2, 4]\n"
     ]
    }
   ],
   "source": [
    "n=[5, 15, 25,  35, 45, 55, 23.5, 2, 4,]\n",
    "a=[]\n",
    "for i in n:\n",
    "    if i%2==0:\n",
    "        a.append(i)\n",
    "        print(a)"
   ]
  },
  {
   "cell_type": "code",
   "execution_count": null,
   "metadata": {},
   "outputs": [
    {
     "name": "stdout",
     "output_type": "stream",
     "text": [
      "musbat\n",
      "4\n",
      "musbat\n",
      "3\n",
      "musbat\n",
      "5\n",
      "manfiy\n",
      "-55\n",
      "manfiy\n",
      "-56\n"
     ]
    }
   ],
   "source": [
    "# Loop bilan qanday koramiz\n",
    "\n",
    "my_list2=[4,3,5,-55,-56]\n",
    "for i in my_list2:\n",
    "    print('musbat' if i>0 else 'manfiy')\n",
    "    print(i)"
   ]
  },
  {
   "cell_type": "code",
   "execution_count": 90,
   "metadata": {},
   "outputs": [
    {
     "data": {
      "text/plain": [
       "'Manfiy'"
      ]
     },
     "execution_count": 90,
     "metadata": {},
     "output_type": "execute_result"
    }
   ],
   "source": [
    "# Iternary Conditionals Operators\n",
    "\n",
    "my_list3=-44\n",
    "'Musbat'if my_list3>0 else 'Manfiy'"
   ]
  },
  {
   "cell_type": "code",
   "execution_count": 91,
   "metadata": {},
   "outputs": [
    {
     "data": {
      "text/plain": [
       "'Musbat'"
      ]
     },
     "execution_count": 91,
     "metadata": {},
     "output_type": "execute_result"
    }
   ],
   "source": [
    "# Iternary Conditionals Operators\n",
    "\n",
    "my_list3=10\n",
    "'Musbat'if my_list3>0 else 'Manfiy'"
   ]
  },
  {
   "cell_type": "code",
   "execution_count": null,
   "metadata": {},
   "outputs": [],
   "source": []
  }
 ],
 "metadata": {
  "kernelspec": {
   "display_name": "Python 3",
   "language": "python",
   "name": "python3"
  },
  "language_info": {
   "codemirror_mode": {
    "name": "ipython",
    "version": 3
   },
   "file_extension": ".py",
   "mimetype": "text/x-python",
   "name": "python",
   "nbconvert_exporter": "python",
   "pygments_lexer": "ipython3",
   "version": "3.13.0"
  }
 },
 "nbformat": 4,
 "nbformat_minor": 2
}
